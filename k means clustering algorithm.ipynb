{
 "cells": [
  {
   "cell_type": "code",
   "execution_count": 2,
   "metadata": {},
   "outputs": [
    {
     "name": "stdout",
     "output_type": "stream",
     "text": [
      "x: [15, 15, 16, 19, 19, 20, 20, 21, 22, 28, 35, 40, 41, 42, 43, 44, 60, 61, 65]\n",
      "Iteration# 1\n",
      "c1: 15\n",
      "c2: 43\n",
      "g1 [0, 0, 1, 4, 4, 5, 5, 6, 7, 13]\n",
      "g2 [8, 3, 2, 1, 0, 1, 17, 18, 22]\n",
      "Iteration# 2\n",
      "c1: 20\n",
      "c2: 48\n",
      "g1 [5, 5, 4, 1, 1, 0, 0, 1, 2, 8]\n",
      "g2 [13, 8, 7, 6, 5, 4, 12, 13, 17]\n"
     ]
    }
   ],
   "source": [
    "x=[15,15,16,19,19,20,20,21,22,28,35,40,41,42,43,44,60,61,65]\n",
    "import random\n",
    "from statistics import mean\n",
    "c1=random.choice(x)\n",
    "c2=random.choice(x)\n",
    "f=1\n",
    "while f==True:\n",
    "    if c1<c2:\n",
    "        f=False\n",
    "        break;\n",
    "    else:\n",
    "        c1=random.choice(x)\n",
    "        c2=random.choice(x)\n",
    "print('x:',x)\n",
    "flag=0\n",
    "n=1\n",
    "Ncount1=0\n",
    "Ocount1=0\n",
    "Ncount2=0\n",
    "Ocount2=0\n",
    "\n",
    "while flag==0:\n",
    "    g1=[]\n",
    "    g2=[]\n",
    "    t1=[]\n",
    "    t2=[]\n",
    "    Ocount1=Ncount1\n",
    "    Ocount2=Ncount2\n",
    "    for i in x:\n",
    "        if abs(c1-i)<abs(c2-i):\n",
    "            g1.append(abs(c1-i))\n",
    "            t1.append(i)\n",
    "        else:\n",
    "            g2.append(abs(c2-i))\n",
    "            t2.append(i)\n",
    "    \n",
    "    print('Iteration#',n)\n",
    "    print('c1:',c1)\n",
    "    print('c2:',c2)\n",
    "    print('g1',g1)\n",
    "    print('g2',g2)\n",
    "    Ncount1=len(g1)\n",
    "    Ncount2=len(g2)\n",
    "    if Ncount1==Ocount1 and Ncount2==Ocount2:\n",
    "        flag=1\n",
    "        break\n",
    "    else:\n",
    "        n+=1\n",
    "        c1=round(sum(t1) / len(t1))\n",
    "        c2=round(sum(t2) / len(t2))"
   ]
  }
 ],
 "metadata": {
  "kernelspec": {
   "display_name": "Python 3",
   "language": "python",
   "name": "python3"
  },
  "language_info": {
   "codemirror_mode": {
    "name": "ipython",
    "version": 3
   },
   "file_extension": ".py",
   "mimetype": "text/x-python",
   "name": "python",
   "nbconvert_exporter": "python",
   "pygments_lexer": "ipython3",
   "version": "3.8.5"
  }
 },
 "nbformat": 4,
 "nbformat_minor": 4
}
